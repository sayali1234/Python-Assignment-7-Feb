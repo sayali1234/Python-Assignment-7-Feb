{
 "cells": [
  {
   "cell_type": "markdown",
   "id": "0a635015-2392-45d4-9ba7-5f24e3f9dd3d",
   "metadata": {},
   "source": [
    "Q1) You are writing code for a company. The requirement of the company is that you create a python\n",
    "function that will check whether the password entered by the user is correct or not. The function should\n",
    "take the password as input and return the string “Valid Password” if the entered password follows the\n",
    "below-given password guidelines else it should return “Invalid Password”.\n",
    "Note: 1. The Password should contain at least two uppercase letters and at least two lowercase letters.\n",
    "2. The Password should contain at least a number and three special characters.\n",
    "3. The length of the password should be 10 characters long."
   ]
  },
  {
   "cell_type": "code",
   "execution_count": 2,
   "id": "d0f914c0-da4a-44fd-9a28-0e957c9545ac",
   "metadata": {},
   "outputs": [
    {
     "name": "stdin",
     "output_type": "stream",
     "text": [
      "Enter your password:  skSK3@#$mn\n"
     ]
    },
    {
     "name": "stdout",
     "output_type": "stream",
     "text": [
      "Valid Password\n"
     ]
    }
   ],
   "source": [
    "def validate_Password(password):\n",
    "    \n",
    "    \"\"\"This function helps to check the validity of the password entered\"\"\"\n",
    "    \n",
    "    #Check if the password meets length requirement\n",
    "    if len(password) != 10:\n",
    "        return \"Invalid Password\"\n",
    "    \n",
    "    \n",
    "    upper_count, lower_count, number_count, special_count = 0, 0, 0, 0\n",
    "    \n",
    "    #Find the count of lowercase, uppercase, numbers and special characters\n",
    "    for char in password:\n",
    "        if char.isupper():\n",
    "            upper_count += 1\n",
    "        \n",
    "        elif char.islower():\n",
    "            lower_count += 1\n",
    "            \n",
    "        elif char.isdigit():\n",
    "            number_count += 1\n",
    "            \n",
    "        else:\n",
    "            special_count += 1\n",
    "            \n",
    "    #Check if the password meets the desired criteria       \n",
    "    if upper_count >= 2 and lower_count >=2 and number_count >=1 and special_count >=3:\n",
    "        return \"Valid Password\"\n",
    "    \n",
    "    else:\n",
    "        return \"Invalid Password\"\n",
    "    \n",
    "# Driver code\n",
    "password = input(\"Enter your password: \")\n",
    "validity = validate_Password(password)\n",
    "print(validity)"
   ]
  },
  {
   "cell_type": "code",
   "execution_count": 3,
   "id": "798638a2-0f00-4cf9-86a1-87265bd11fd1",
   "metadata": {},
   "outputs": [
    {
     "name": "stdin",
     "output_type": "stream",
     "text": [
      "Enter your password:  abcdefghijk\n"
     ]
    },
    {
     "name": "stdout",
     "output_type": "stream",
     "text": [
      "Invalid Password\n"
     ]
    }
   ],
   "source": [
    "password = input(\"Enter your password: \")\n",
    "validity = validate_Password(password)\n",
    "print(validity)"
   ]
  },
  {
   "cell_type": "markdown",
   "id": "77cfa179-5db6-4d91-96a0-f9dff8277ee5",
   "metadata": {},
   "source": [
    "Q2) Solve the below-given questions using at least one of the following:\n",
    "1. Lambda function\n",
    "2. Filter function\n",
    "3. Zap function\n",
    "4. List Comprehension\n",
    "B Check if the string starts with a particular letter.\n",
    "B Check if the string is numeric.\n",
    "B Sort a list of tuples having fruit names and their quantity. [(\"mango\",99),(\"orange\",80), (\"grapes\", 1000)]\n",
    "B Find the squares of numbers from 1 to 10.\n",
    "B Find the cube root of numbers from 1 to 10.\n",
    "B Check if a given number is even.\n",
    "B Filter odd numbers from the given list.\n",
    "[1,2,3,4,5,6,7,8,9,10]\n",
    "B Sort a list of integers into positive and negative integers lists.\n",
    "[1,2,3,4,5,6,-1,-2,-3,-4,-5,0]"
   ]
  },
  {
   "cell_type": "markdown",
   "id": "cf428249-46d1-4104-bcc4-a5811d4b6698",
   "metadata": {},
   "source": [
    "Check if the string starts with a particular letter"
   ]
  },
  {
   "cell_type": "code",
   "execution_count": 4,
   "id": "d6dc2b90-7965-41d6-b711-43924cb69fe9",
   "metadata": {},
   "outputs": [
    {
     "name": "stdin",
     "output_type": "stream",
     "text": [
      "Enter string:  swara\n",
      "Enter letter:  s\n"
     ]
    },
    {
     "name": "stdout",
     "output_type": "stream",
     "text": [
      "'swara' starts with 's'!\n"
     ]
    }
   ],
   "source": [
    "#Solution uses LAMBDA function\n",
    "\n",
    "check_start = lambda string, letter: string.startswith(letter)\n",
    "\n",
    "#Driver Code\n",
    "string = input(\"Enter string: \")\n",
    "letter = input(\"Enter letter: \")\n",
    "if check_start(string, letter):\n",
    "    print(f\"'{string}' starts with '{letter}'!\")\n",
    "else:\n",
    "    print(f\"'{string}' does not starts with '{letter}'!\")"
   ]
  },
  {
   "cell_type": "code",
   "execution_count": 5,
   "id": "dc02a40a-4405-41c5-a150-f986ea79b6b4",
   "metadata": {},
   "outputs": [
    {
     "name": "stdin",
     "output_type": "stream",
     "text": [
      "Enter string:  swara\n",
      "Enter letter:  m\n"
     ]
    },
    {
     "name": "stdout",
     "output_type": "stream",
     "text": [
      "'swara' does not starts with 'm'!\n"
     ]
    }
   ],
   "source": [
    "#Driver Code\n",
    "string = input(\"Enter string: \")\n",
    "letter = input(\"Enter letter: \")\n",
    "if check_start(string, letter):\n",
    "    print(f\"'{string}' starts with '{letter}'!\")\n",
    "else:\n",
    "    print(f\"'{string}' does not starts with '{letter}'!\")"
   ]
  },
  {
   "cell_type": "markdown",
   "id": "5d641ea5-5999-40ed-a749-8a95e3f13efd",
   "metadata": {},
   "source": [
    "Check if the string is numeric"
   ]
  },
  {
   "cell_type": "code",
   "execution_count": 6,
   "id": "37d9429b-05e7-40bf-a272-3ef48d900e6f",
   "metadata": {},
   "outputs": [
    {
     "name": "stdin",
     "output_type": "stream",
     "text": [
      "Enter string:  1234567\n"
     ]
    },
    {
     "name": "stdout",
     "output_type": "stream",
     "text": [
      "1234567 is numeric!\n"
     ]
    }
   ],
   "source": [
    "#Solution uses LAMBDA function \n",
    "\n",
    "is_numeric = lambda string : string.isnumeric()\n",
    "\n",
    "#Driver Code\n",
    "string = input(\"Enter string: \")\n",
    "if is_numeric(string):\n",
    "    print(f\"{string} is numeric!\")\n",
    "else:\n",
    "    print(f\"{string} is not numeric!\")"
   ]
  },
  {
   "cell_type": "code",
   "execution_count": 7,
   "id": "6c4fd479-f21e-4aad-af28-9f611f8b681d",
   "metadata": {},
   "outputs": [
    {
     "name": "stdin",
     "output_type": "stream",
     "text": [
      "Enter string:  abcdefg23\n"
     ]
    },
    {
     "name": "stdout",
     "output_type": "stream",
     "text": [
      "abcdefg23 is not numeric!\n"
     ]
    }
   ],
   "source": [
    "#Driver Code\n",
    "string = input(\"Enter string: \")\n",
    "if is_numeric(string):\n",
    "    print(f\"{string} is numeric!\")\n",
    "else:\n",
    "    print(f\"{string} is not numeric!\")"
   ]
  },
  {
   "cell_type": "markdown",
   "id": "a2b8b3db-661f-4e0a-9545-3f3d7fef66c2",
   "metadata": {},
   "source": [
    "Sort a list of tuples having fruit names and their quantity.\n",
    "[(\"mango\",99),(\"orange\",80), (\"grapes\", 1000)]"
   ]
  },
  {
   "cell_type": "code",
   "execution_count": 8,
   "id": "af4be2a9-1fc2-43d3-a752-89e5ea472d81",
   "metadata": {},
   "outputs": [
    {
     "name": "stdout",
     "output_type": "stream",
     "text": [
      "Fruits increasingly sorted according to quantity: [('orange', 80), ('mango', 99), ('grapes', 1000)]\n"
     ]
    }
   ],
   "source": [
    "# Solution uses LAMBDA function \n",
    "\n",
    "fruits = [(\"mango\",99),(\"orange\",80), (\"grapes\", 1000)]\n",
    "fruits.sort(key = lambda ele : ele[1])\n",
    "print(f\"Fruits increasingly sorted according to quantity: {fruits}\")"
   ]
  },
  {
   "cell_type": "markdown",
   "id": "32ddb8ec-8c3c-48c6-b94e-7cafa78cbf20",
   "metadata": {},
   "source": [
    "Find the squares of numbers from 1 to 10"
   ]
  },
  {
   "cell_type": "code",
   "execution_count": 9,
   "id": "f70ec321-c7f8-4ee5-8ecb-826eecfb3fea",
   "metadata": {},
   "outputs": [
    {
     "name": "stdout",
     "output_type": "stream",
     "text": [
      "The squares of number from 1-10: [1, 4, 9, 16, 25, 36, 49, 64, 81, 100]\n"
     ]
    }
   ],
   "source": [
    "# Method1: Solution uses LIST COMPREHENSION\n",
    "\n",
    "num_square = [num**2 for num in range(1,11)]\n",
    "print(f\"The squares of number from 1-10: {num_square}\")"
   ]
  },
  {
   "cell_type": "code",
   "execution_count": 10,
   "id": "59d8a114-3e60-4b0d-bb09-a9146ae8085c",
   "metadata": {},
   "outputs": [
    {
     "name": "stdout",
     "output_type": "stream",
     "text": [
      "The squares of number from 1-10: [1, 4, 9, 16, 25, 36, 49, 64, 81, 100]\n"
     ]
    }
   ],
   "source": [
    "# Method2: Solution uses MAP and LAMBDA\n",
    "\n",
    "num_square = list(map(lambda num : num ** 2, range(1,11)))\n",
    "print(f\"The squares of number from 1-10: {num_square}\")"
   ]
  },
  {
   "cell_type": "markdown",
   "id": "966c29ba-7fd4-4794-a738-0163b0054bd4",
   "metadata": {},
   "source": [
    "Find the cube root of numbers from 1 to 10"
   ]
  },
  {
   "cell_type": "code",
   "execution_count": 11,
   "id": "10c7fe7c-ca36-431c-ab03-b0e5387f2747",
   "metadata": {},
   "outputs": [
    {
     "name": "stdout",
     "output_type": "stream",
     "text": [
      "The cube root from 1-10: [1.0, 1.26, 1.44, 1.59, 1.71, 1.82, 1.91, 2.0, 2.08, 2.15]\n"
     ]
    }
   ],
   "source": [
    "# Method1: Solution uses LIST COMPREHENSION\n",
    "\n",
    "cube_root = [round(num**(1/3),2) for num in range(1,11)]\n",
    "print(f\"The cube root from 1-10: {cube_root}\")"
   ]
  },
  {
   "cell_type": "code",
   "execution_count": 12,
   "id": "0d73e38d-bd1f-4ef4-a9ae-b629a136251d",
   "metadata": {},
   "outputs": [
    {
     "name": "stdout",
     "output_type": "stream",
     "text": [
      "The cube root from 1-10: [1.0, 1.26, 1.44, 1.59, 1.71, 1.82, 1.91, 2.0, 2.08, 2.15]\n"
     ]
    }
   ],
   "source": [
    "# Method2: Solution uses MAP and LAMBDA\n",
    "\n",
    "cube_root = list(map(lambda num : round(num ** (1/3), 2), range(1,11)))\n",
    "print(f\"The cube root from 1-10: {cube_root}\")"
   ]
  },
  {
   "cell_type": "markdown",
   "id": "5db44a02-4d28-4035-8cda-50acacb9537d",
   "metadata": {},
   "source": [
    "Check if a given number is even"
   ]
  },
  {
   "cell_type": "code",
   "execution_count": 13,
   "id": "7c011d3d-7c4c-49db-9353-6975602a1298",
   "metadata": {},
   "outputs": [
    {
     "name": "stdin",
     "output_type": "stream",
     "text": [
      "Enter a number:  56\n"
     ]
    },
    {
     "name": "stdout",
     "output_type": "stream",
     "text": [
      "56 is a EVEN number\n"
     ]
    }
   ],
   "source": [
    "#Solution uses LAMBDA function\n",
    "\n",
    "check_even = lambda num : num % 2 == 0\n",
    "\n",
    "# Driver code\n",
    "num = int(input(\"Enter a number: \"))\n",
    "if check_even(num):\n",
    "    print(f\"{num} is a EVEN number\")\n",
    "else:\n",
    "    print(f\"{num} is a NOT a even number\")"
   ]
  },
  {
   "cell_type": "code",
   "execution_count": 14,
   "id": "43cd46ed-cca6-4b62-8da8-4651bbfbf95a",
   "metadata": {},
   "outputs": [
    {
     "name": "stdin",
     "output_type": "stream",
     "text": [
      "Enter a number:  13\n"
     ]
    },
    {
     "name": "stdout",
     "output_type": "stream",
     "text": [
      "13 is a NOT a even number\n"
     ]
    }
   ],
   "source": [
    "# Driver code\n",
    "num = int(input(\"Enter a number: \"))\n",
    "if check_even(num):\n",
    "    print(f\"{num} is a EVEN number\")\n",
    "else:\n",
    "    print(f\"{num} is a NOT a even number\")"
   ]
  },
  {
   "cell_type": "code",
   "execution_count": null,
   "id": "74759792-98c2-41f2-9b19-cb55cd223c3b",
   "metadata": {},
   "outputs": [],
   "source": [
    "Filter odd numbers from the given list. [1,2,3,4,5,6,7,8,9,10]"
   ]
  }
 ],
 "metadata": {
  "kernelspec": {
   "display_name": "Python 3 (ipykernel)",
   "language": "python",
   "name": "python3"
  },
  "language_info": {
   "codemirror_mode": {
    "name": "ipython",
    "version": 3
   },
   "file_extension": ".py",
   "mimetype": "text/x-python",
   "name": "python",
   "nbconvert_exporter": "python",
   "pygments_lexer": "ipython3",
   "version": "3.10.8"
  }
 },
 "nbformat": 4,
 "nbformat_minor": 5
}
